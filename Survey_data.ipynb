{
 "cells": [
  {
   "attachments": {},
   "cell_type": "markdown",
   "metadata": {},
   "source": [
    "Importing all the necessary libraries for website scraping"
   ]
  },
  {
   "cell_type": "code",
   "execution_count": 21,
   "metadata": {},
   "outputs": [],
   "source": [
    "import pandas as pd\n",
    "import requests\n",
    "from bs4 import BeautifulSoup"
   ]
  },
  {
   "attachments": {},
   "cell_type": "markdown",
   "metadata": {},
   "source": [
    "Parsing the file to get the elements from the website"
   ]
  },
  {
   "cell_type": "code",
   "execution_count": 25,
   "metadata": {},
   "outputs": [],
   "source": [
    "def parsed_Data(str):\n",
    "    s=requests.get(str)\n",
    "    soup=BeautifulSoup(s.content,\"html.parser\")\n",
    "\n",
    "    return soup\n"
   ]
  },
  {
   "attachments": {},
   "cell_type": "markdown",
   "metadata": {},
   "source": [
    "Storing particular data elements from the parsed and finding the required elements required from the data through its tags "
   ]
  },
  {
   "cell_type": "code",
   "execution_count": 23,
   "metadata": {},
   "outputs": [
    {
     "name": "stdout",
     "output_type": "stream",
     "text": [
      "[<h2>What Is Web Scraping?<a class=\"headerlink\" href=\"#what-is-web-scraping\" title=\"Permanent link\"></a></h2>, <h2>Scrape the Fake Python Job Site<a class=\"headerlink\" href=\"#scrape-the-fake-python-job-site\" title=\"Permanent link\"></a></h2>, <h2>Step 1: Inspect Your Data Source<a class=\"headerlink\" href=\"#step-1-inspect-your-data-source\" title=\"Permanent link\"></a></h2>, <h2>Step 2: Scrape HTML Content From a Page<a class=\"headerlink\" href=\"#step-2-scrape-html-content-from-a-page\" title=\"Permanent link\"></a></h2>, <h2>Step 3: Parse HTML Code With Beautiful Soup<a class=\"headerlink\" href=\"#step-3-parse-html-code-with-beautiful-soup\" title=\"Permanent link\"></a></h2>, <h2>Keep Practicing<a class=\"headerlink\" href=\"#keep-practicing\" title=\"Permanent link\"></a></h2>, <h2>Conclusion<a class=\"headerlink\" href=\"#conclusion\" title=\"Permanent link\"></a></h2>]\n"
     ]
    }
   ],
   "source": [
    "DS1=parsed_Data(str).find(\"div\",class_=\"\")\n",
    "data=[]\n",
    "for ds in DS1:\n",
    "    data.append(DS1.find_all(\"div\",class_=\"\",id=\"\"))\n",
    "    \n"
   ]
  }
 ],
 "metadata": {
  "kernelspec": {
   "display_name": "Python 3",
   "language": "python",
   "name": "python3"
  },
  "language_info": {
   "codemirror_mode": {
    "name": "ipython",
    "version": 3
   },
   "file_extension": ".py",
   "mimetype": "text/x-python",
   "name": "python",
   "nbconvert_exporter": "python",
   "pygments_lexer": "ipython3",
   "version": "3.10.4"
  },
  "orig_nbformat": 4
 },
 "nbformat": 4,
 "nbformat_minor": 2
}
